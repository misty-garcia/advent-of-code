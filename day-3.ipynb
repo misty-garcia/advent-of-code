{
 "cells": [
  {
   "cell_type": "markdown",
   "metadata": {},
   "source": [
    "# Day 3: Crossed Wires"
   ]
  },
  {
   "cell_type": "markdown",
   "metadata": {},
   "source": [
    "## Part 1"
   ]
  },
  {
   "cell_type": "markdown",
   "metadata": {},
   "source": [
    "The gravity assist was successful, and you're well on your way to the Venus refuelling station. During the rush back on Earth, the fuel management system wasn't completely installed, so that's next on the priority list.\n",
    "\n",
    "Opening the front panel reveals a jumble of wires. Specifically, two wires are connected to a central port and extend outward on a grid. You trace the path each wire takes as it leaves the central port, one wire per line of text (your puzzle input).\n",
    "\n",
    "The wires twist and turn, but the two wires occasionally cross paths. To fix the circuit, you need to find the intersection point closest to the central port. Because the wires are on a grid, use the Manhattan distance for this measurement. While the wires do technically cross right at the central port where they both start, this point does not count, nor does a wire count as crossing with itself.\n",
    "\n",
    "For example, if the first wire's path is R8,U5,L5,D3, then starting from the central port (o), it goes right 8, up 5, left 5, and finally down 3:\n",
    "\n",
    "...........\n",
    "\n",
    "...........\n",
    "\n",
    "...........\n",
    "\n",
    "....+----+.\n",
    "\n",
    "....|....|.\n",
    "\n",
    "....|....|.\n",
    "\n",
    "....|....|.\n",
    "\n",
    ".........|.\n",
    "\n",
    ".o-------+.\n",
    "\n",
    "...........\n",
    "\n",
    "Then, if the second wire's path is U7,R6,D4,L4, it goes up 7, right 6, down 4, and left 4:\n",
    "\n",
    "...........\n",
    "\n",
    ".+-----+...\n",
    "\n",
    ".|.....|...\n",
    "\n",
    ".|..+--X-+.\n",
    "\n",
    ".|..|..|.|.\n",
    "\n",
    ".|.-X--+.|.\n",
    "\n",
    ".|..|....|.\n",
    "\n",
    ".|.......|.\n",
    "\n",
    ".o-------+.\n",
    "\n",
    "...........\n",
    "\n",
    "These wires cross at two locations (marked X), but the lower-left one is closer to the central port: its distance is 3 + 3 = 6.\n",
    "\n",
    "Here are a few more examples:\n",
    "\n",
    "- R75,D30,R83,U83,L12,D49,R71,U7,L72,U62,R66,U55,R34,D71,R55,D58,R83 = distance 159\n",
    "- R98,U47,R26,D63,R33,U87,L62,D20,R33,U53,R51, U98,R91,D20,R16,D67,R40,U7,R15,U6,R7 = distance 135\n",
    "\n",
    "What is the Manhattan distance from the central port to the closest intersection?"
   ]
  },
  {
   "cell_type": "code",
   "execution_count": 230,
   "metadata": {},
   "outputs": [],
   "source": [
    "# data wrangling\n",
    "import pandas as pd\n",
    "import numpy as np"
   ]
  },
  {
   "cell_type": "markdown",
   "metadata": {},
   "source": [
    "### Blank grid function"
   ]
  },
  {
   "cell_type": "code",
   "execution_count": 231,
   "metadata": {},
   "outputs": [],
   "source": [
    "def init_grid():\n",
    "    grid = np.zeros((10,11))\n",
    "    grid[-2,1] = 1\n",
    "    return grid"
   ]
  },
  {
   "cell_type": "markdown",
   "metadata": {},
   "source": [
    "### Test example small"
   ]
  },
  {
   "cell_type": "markdown",
   "metadata": {},
   "source": [
    "#### Initialize grid and draw wire 1"
   ]
  },
  {
   "cell_type": "code",
   "execution_count": 226,
   "metadata": {},
   "outputs": [],
   "source": [
    "grid = init_grid()\n",
    "wire = \"R8,U5,L5,D3\".split(\",\")\n",
    "path = [-2,1]"
   ]
  },
  {
   "cell_type": "code",
   "execution_count": 227,
   "metadata": {},
   "outputs": [
    {
     "name": "stdout",
     "output_type": "stream",
     "text": [
      "[[0. 0. 0. 0. 0. 0. 0. 0. 0. 0. 0.]\n",
      " [0. 0. 0. 0. 0. 0. 0. 0. 0. 0. 0.]\n",
      " [0. 0. 0. 0. 0. 0. 0. 0. 0. 0. 0.]\n",
      " [0. 0. 0. 0. 1. 1. 1. 1. 1. 1. 0.]\n",
      " [0. 0. 0. 0. 1. 0. 0. 0. 0. 1. 0.]\n",
      " [0. 0. 0. 0. 1. 0. 0. 0. 0. 1. 0.]\n",
      " [0. 0. 0. 0. 1. 0. 0. 0. 0. 1. 0.]\n",
      " [0. 0. 0. 0. 0. 0. 0. 0. 0. 1. 0.]\n",
      " [0. 1. 1. 1. 1. 1. 1. 1. 1. 1. 0.]\n",
      " [0. 0. 0. 0. 0. 0. 0. 0. 0. 0. 0.]]\n"
     ]
    }
   ],
   "source": [
    "# loop through each direction\n",
    "for step in range(len(wire)):\n",
    "    y = path[0] #define starting locations\n",
    "    x = path[1]\n",
    "    movement = int(wire[step][1]) #set total movement\n",
    "    \n",
    "    if wire[step][0] == \"R\": \n",
    "        path[1] += movement\n",
    "        for move in range(movement):\n",
    "            grid[y,x+move+1] = 1\n",
    "\n",
    "    elif wire[step][0] == \"L\":\n",
    "        path[1] -= movement\n",
    "        for move in range(movement):\n",
    "            grid[y,x-move-1] = 1\n",
    "\n",
    "    elif wire[step][0] == \"D\":\n",
    "        path[0] += movement\n",
    "        for move in range(movement):\n",
    "            grid[y+move+1,x] = 1\n",
    "        \n",
    "    elif wire[step][0] == \"U\":        \n",
    "        path[0] -= movement\n",
    "        for move in range(movement):\n",
    "            grid[y-move-1,x] = 1\n",
    "\n",
    "    else:\n",
    "        print(\"error\")\n",
    "print(grid)"
   ]
  },
  {
   "cell_type": "markdown",
   "metadata": {},
   "source": [
    "#### Draw wire 2"
   ]
  },
  {
   "cell_type": "code",
   "execution_count": 228,
   "metadata": {},
   "outputs": [],
   "source": [
    "wire = \"U7,R6,D4,L4\".split(\",\")\n",
    "path = [-2,1]"
   ]
  },
  {
   "cell_type": "code",
   "execution_count": 229,
   "metadata": {
    "scrolled": false
   },
   "outputs": [
    {
     "name": "stdout",
     "output_type": "stream",
     "text": [
      "[[0. 0. 0. 0. 0. 0. 0. 0. 0. 0. 0.]\n",
      " [0. 2. 2. 2. 2. 2. 2. 2. 0. 0. 0.]\n",
      " [0. 2. 0. 0. 0. 0. 0. 2. 0. 0. 0.]\n",
      " [0. 2. 0. 0. 1. 1. 1. 3. 1. 1. 0.]\n",
      " [0. 2. 0. 0. 1. 0. 0. 2. 0. 1. 0.]\n",
      " [0. 2. 0. 2. 3. 2. 2. 2. 0. 1. 0.]\n",
      " [0. 2. 0. 0. 1. 0. 0. 0. 0. 1. 0.]\n",
      " [0. 2. 0. 0. 0. 0. 0. 0. 0. 1. 0.]\n",
      " [0. 1. 1. 1. 1. 1. 1. 1. 1. 1. 0.]\n",
      " [0. 0. 0. 0. 0. 0. 0. 0. 0. 0. 0.]]\n"
     ]
    }
   ],
   "source": [
    "for step in range(len(wire)):\n",
    "    y = path[0]\n",
    "    x = path[1]\n",
    "    movement = int(wire[step][1])\n",
    "    \n",
    "    if wire[step][0] == \"R\":\n",
    "        path[1] += movement\n",
    "        for move in range(movement):\n",
    "            if grid[y,x+move+1] == 1:\n",
    "                grid[y,x+move+1] = 3\n",
    "            else:\n",
    "                grid[y,x+move+1] = 2                \n",
    "\n",
    "    elif wire[step][0] == \"L\":\n",
    "        path[1] -= movement\n",
    "        for move in range(movement):\n",
    "            if grid[y,x-move-1] == 1:\n",
    "                grid[y,x-move-1] = 3\n",
    "            else:\n",
    "                grid[y,x-move-1] = 2\n",
    "\n",
    "    elif wire[step][0] == \"D\":\n",
    "        path[0] += movement\n",
    "        for move in range(movement):\n",
    "            if grid[y+move+1,x] == 1:\n",
    "                grid[y+move+1,x] = 3\n",
    "            else:\n",
    "                grid[y+move+1,x] = 2\n",
    "        \n",
    "    elif wire[step][0] == \"U\":        \n",
    "        path[0] -= movement\n",
    "        for move in range(movement):\n",
    "            if grid[y-move-1,x] == 1:\n",
    "                grid[y-move-1,x] = 3\n",
    "            else:\n",
    "                grid[y-move-1,x] = 2\n",
    "\n",
    "    else:\n",
    "        print(\"error\")\n",
    "print(grid)"
   ]
  },
  {
   "cell_type": "markdown",
   "metadata": {},
   "source": [
    "The '3' values are where wires intersect"
   ]
  },
  {
   "cell_type": "markdown",
   "metadata": {},
   "source": [
    "#### Find shortest distance"
   ]
  },
  {
   "cell_type": "code",
   "execution_count": 242,
   "metadata": {},
   "outputs": [
    {
     "data": {
      "text/plain": [
       "[(3, 7), (5, 4)]"
      ]
     },
     "execution_count": 242,
     "metadata": {},
     "output_type": "execute_result"
    }
   ],
   "source": [
    "intersect = np.where(grid == 3)\n",
    "intersect = list(zip(intersect[0], intersect[1]))\n",
    "intersect"
   ]
  },
  {
   "cell_type": "code",
   "execution_count": 257,
   "metadata": {},
   "outputs": [],
   "source": [
    "start = [8,1]"
   ]
  },
  {
   "cell_type": "code",
   "execution_count": 273,
   "metadata": {},
   "outputs": [],
   "source": [
    "short_dist = None\n",
    "\n",
    "for count in range(len(intersect)):\n",
    "    dist = abs(intersect[count][0] - start[0]) + abs(intersect[count][1] - start[1])\n",
    "    if short_dist is None:\n",
    "        short_dist = dist\n",
    "    elif dist < short_dist:\n",
    "        short_dist = dist\n",
    "        short_index = count"
   ]
  },
  {
   "cell_type": "code",
   "execution_count": 277,
   "metadata": {},
   "outputs": [
    {
     "data": {
      "text/plain": [
       "6"
      ]
     },
     "execution_count": 277,
     "metadata": {},
     "output_type": "execute_result"
    }
   ],
   "source": [
    "short_dist"
   ]
  },
  {
   "cell_type": "code",
   "execution_count": 276,
   "metadata": {},
   "outputs": [
    {
     "data": {
      "text/plain": [
       "(5, 4)"
      ]
     },
     "execution_count": 276,
     "metadata": {},
     "output_type": "execute_result"
    }
   ],
   "source": [
    "intersect[short_index]"
   ]
  },
  {
   "cell_type": "markdown",
   "metadata": {},
   "source": [
    "### Test big examples"
   ]
  },
  {
   "cell_type": "code",
   "execution_count": 280,
   "metadata": {},
   "outputs": [],
   "source": [
    "wire = \"R75,D30,R83,U83,L12,D49,R71,U7,L72,U62,R66,U55,R34,D71,R55,D58,R83\".split(\",\")"
   ]
  },
  {
   "cell_type": "markdown",
   "metadata": {},
   "source": [
    "Determine grid size "
   ]
  },
  {
   "cell_type": "code",
   "execution_count": 294,
   "metadata": {},
   "outputs": [],
   "source": [
    "wire = \"U7,R6,D4,L4\".split(\",\")"
   ]
  },
  {
   "cell_type": "code",
   "execution_count": 297,
   "metadata": {},
   "outputs": [
    {
     "data": {
      "text/plain": [
       "(7, 8)"
      ]
     },
     "execution_count": 297,
     "metadata": {},
     "output_type": "execute_result"
    }
   ],
   "source": [
    "width = 1\n",
    "height = 1\n",
    "\n",
    "for step in range(len(wire)):\n",
    "    if wire[step][0] == \"R\":\n",
    "        width += int(wire[step][1:])\n",
    "    elif wire[step][0] == \"U\":\n",
    "        height += int(wire[step][1:])\n",
    "        \n",
    "width, height"
   ]
  },
  {
   "cell_type": "code",
   "execution_count": 299,
   "metadata": {},
   "outputs": [],
   "source": [
    "wire = \"R8,U5,L5,D3\".split(\",\")"
   ]
  },
  {
   "cell_type": "code",
   "execution_count": 300,
   "metadata": {},
   "outputs": [
    {
     "data": {
      "text/plain": [
       "(9, 6)"
      ]
     },
     "execution_count": 300,
     "metadata": {},
     "output_type": "execute_result"
    }
   ],
   "source": [
    "width = 1\n",
    "height = 1\n",
    "\n",
    "for step in range(len(wire)):\n",
    "    if wire[step][0] == \"R\":\n",
    "        width += int(wire[step][1:])\n",
    "    elif wire[step][0] == \"U\":\n",
    "        height += int(wire[step][1:]) \n",
    "        \n",
    "width, height"
   ]
  },
  {
   "cell_type": "markdown",
   "metadata": {},
   "source": [
    "> need to compare widths and heights and use the max sizes of both "
   ]
  },
  {
   "cell_type": "code",
   "execution_count": null,
   "metadata": {},
   "outputs": [],
   "source": []
  },
  {
   "cell_type": "code",
   "execution_count": null,
   "metadata": {},
   "outputs": [],
   "source": []
  },
  {
   "cell_type": "code",
   "execution_count": null,
   "metadata": {},
   "outputs": [],
   "source": []
  }
 ],
 "metadata": {
  "kernelspec": {
   "display_name": "Python 3",
   "language": "python",
   "name": "python3"
  },
  "language_info": {
   "codemirror_mode": {
    "name": "ipython",
    "version": 3
   },
   "file_extension": ".py",
   "mimetype": "text/x-python",
   "name": "python",
   "nbconvert_exporter": "python",
   "pygments_lexer": "ipython3",
   "version": "3.7.3"
  },
  "toc": {
   "base_numbering": 1,
   "nav_menu": {},
   "number_sections": false,
   "sideBar": true,
   "skip_h1_title": true,
   "title_cell": "Table of Contents",
   "title_sidebar": "Contents",
   "toc_cell": false,
   "toc_position": {},
   "toc_section_display": true,
   "toc_window_display": false
  }
 },
 "nbformat": 4,
 "nbformat_minor": 2
}

{
 "cells": [
  {
   "cell_type": "markdown",
   "metadata": {},
   "source": [
    "# Day 2: 1202 Program Alarm"
   ]
  },
  {
   "cell_type": "markdown",
   "metadata": {},
   "source": [
    "## Part 1"
   ]
  },
  {
   "cell_type": "markdown",
   "metadata": {},
   "source": [
    "On the way to your gravity assist around the Moon, your ship computer beeps angrily about a \"1202 program alarm\". On the radio, an Elf is already explaining how to handle the situation: \"Don't worry, that's perfectly norma--\" The ship computer bursts into flames.\n",
    "\n",
    "You notify the Elves that the computer's magic smoke seems to have escaped. \"That computer ran Intcode programs like the gravity assist program it was working on; surely there are enough spare parts up there to build a new Intcode computer!\"\n",
    "\n",
    "An Intcode program is a list of integers separated by commas (like 1,0,0,3,99). To run one, start by looking at the first integer (called position 0). Here, you will find an opcode - either 1, 2, or 99. The opcode indicates what to do; for example, 99 means that the program is finished and should immediately halt. Encountering an unknown opcode means something went wrong.\n",
    "\n",
    "Opcode 1 adds together numbers read from two positions and stores the result in a third position. The three integers immediately after the opcode tell you these three positions - the first two indicate the positions from which you should read the input values, and the third indicates the position at which the output should be stored.\n",
    "\n",
    "For example, if your Intcode computer encounters 1,10,20,30, it should read the values at positions 10 and 20, add those values, and then overwrite the value at position 30 with their sum.\n",
    "\n",
    "Opcode 2 works exactly like opcode 1, except it multiplies the two inputs instead of adding them. Again, the three integers after the opcode indicate where the inputs and outputs are, not their values.\n",
    "\n",
    "Once you're done processing an opcode, move to the next one by stepping forward 4 positions.\n",
    "\n",
    "For example, suppose you have the following program:\n",
    "\n",
    "1,9,10,3,2,3,11,0,99,30,40,50\n",
    "\n",
    "For the purposes of illustration, here is the same program split into multiple lines:\n",
    "\n",
    "1,9,10,3,\n",
    "\n",
    "2,3,11,0,\n",
    "\n",
    "99,\n",
    "\n",
    "30,40,50\n",
    "\n",
    "The first four integers, 1,9,10,3, are at positions 0, 1, 2, and 3. Together, they represent the first opcode (1, addition), the positions of the two inputs (9 and 10), and the position of the output (3). To handle this opcode, you first need to get the values at the input positions: position 9 contains 30, and position 10 contains 40. Add these numbers together to get 70. Then, store this value at the output position; here, the output position (3) is at position 3, so it overwrites itself. Afterward, the program looks like this:\n",
    "\n",
    "1,9,10,70,\n",
    "\n",
    "2,3,11,0,\n",
    "\n",
    "99,\n",
    "\n",
    "30,40,50\n",
    "\n",
    "Step forward 4 positions to reach the next opcode, 2. This opcode works just like the previous, but it multiplies instead of adding. The inputs are at positions 3 and 11; these positions contain 70 and 50 respectively. Multiplying these produces 3500; this is stored at position 0:\n",
    "\n",
    "3500,9,10,70,\n",
    "\n",
    "2,3,11,0,\n",
    "\n",
    "99,\n",
    "\n",
    "30,40,50\n",
    "\n",
    "Stepping forward 4 more positions arrives at opcode 99, halting the program.\n",
    "\n",
    "Here are the initial and final states of a few more small programs:\n",
    "\n",
    "- 1,0,0,0,99 becomes 2,0,0,0,99 (1 + 1 = 2)\n",
    "- 2,3,0,3,99 becomes 2,3,0,6,99 (3 * 2 = 6)\n",
    "- 2,4,4,5,99,0 becomes 2,4,4,5,99,9801 (99 * 99 = 9801)\n",
    "- 1,1,1,4,99,5,6,0,99 becomes 30,1,1,4,2,5,6,0,99\n",
    "\n",
    "Once you have a working computer, the first step is to restore the gravity assist program (your puzzle input) to the \"1202 program alarm\" state it had just before the last computer caught fire. To do this, before running the program, replace position 1 with the value 12 and replace position 2 with the value 2. What value is left at position 0 after the program halts?"
   ]
  },
  {
   "cell_type": "code",
   "execution_count": 3,
   "metadata": {},
   "outputs": [],
   "source": [
    "# data wrangling\n",
    "import pandas as pd\n",
    "import numpy as np"
   ]
  },
  {
   "cell_type": "markdown",
   "metadata": {},
   "source": [
    "### Initialize test program"
   ]
  },
  {
   "cell_type": "code",
   "execution_count": 23,
   "metadata": {},
   "outputs": [],
   "source": [
    "program = [1,9,10,3,2,3,11,0,99,30,40,50]"
   ]
  },
  {
   "cell_type": "code",
   "execution_count": 24,
   "metadata": {},
   "outputs": [
    {
     "data": {
      "text/plain": [
       "[1, 9, 10, 3, 2, 3, 11, 0, 99, 30, 40, 50]"
      ]
     },
     "execution_count": 24,
     "metadata": {},
     "output_type": "execute_result"
    }
   ],
   "source": [
    "program"
   ]
  },
  {
   "cell_type": "markdown",
   "metadata": {},
   "source": [
    "### Initialize Op 1"
   ]
  },
  {
   "cell_type": "code",
   "execution_count": 25,
   "metadata": {},
   "outputs": [],
   "source": [
    "if program[0] == 1:\n",
    "    program[program[3]] = (program[program[1]] + program[program[2]])"
   ]
  },
  {
   "cell_type": "code",
   "execution_count": 26,
   "metadata": {},
   "outputs": [
    {
     "data": {
      "text/plain": [
       "[1, 9, 10, 70, 2, 3, 11, 0, 99, 30, 40, 50]"
      ]
     },
     "execution_count": 26,
     "metadata": {},
     "output_type": "execute_result"
    }
   ],
   "source": [
    "program"
   ]
  },
  {
   "cell_type": "markdown",
   "metadata": {},
   "source": [
    "### Initialize Op 2"
   ]
  },
  {
   "cell_type": "code",
   "execution_count": 29,
   "metadata": {},
   "outputs": [],
   "source": [
    "if program[0+4] == 2:\n",
    "    program[program[3+4]] = (program[program[1+4]] * program[program[2+4]])"
   ]
  },
  {
   "cell_type": "code",
   "execution_count": 30,
   "metadata": {},
   "outputs": [
    {
     "data": {
      "text/plain": [
       "[3500, 9, 10, 70, 2, 3, 11, 0, 99, 30, 40, 50]"
      ]
     },
     "execution_count": 30,
     "metadata": {},
     "output_type": "execute_result"
    }
   ],
   "source": [
    "program"
   ]
  },
  {
   "cell_type": "markdown",
   "metadata": {},
   "source": [
    "### Initialize Op 99"
   ]
  },
  {
   "cell_type": "code",
   "execution_count": 31,
   "metadata": {},
   "outputs": [
    {
     "name": "stdout",
     "output_type": "stream",
     "text": [
      "exit program\n"
     ]
    }
   ],
   "source": [
    "if program[0+4+4] == 99:\n",
    "    print(\"exit program\")"
   ]
  },
  {
   "cell_type": "markdown",
   "metadata": {},
   "source": [
    "### Combine and test ops "
   ]
  },
  {
   "cell_type": "code",
   "execution_count": 103,
   "metadata": {},
   "outputs": [],
   "source": [
    "def opcode(program):\n",
    "    for x in range(len(program)//4):\n",
    "        if x == 0: \n",
    "            if program[x] == 1:\n",
    "                program[program[3]] = (program[program[1]] + program[program[2]])\n",
    "            elif program[x] == 2:\n",
    "                program[program[3]] = (program[program[1]] * program[program[2]])\n",
    "            elif program[x] == 99:\n",
    "                break\n",
    "            else:\n",
    "                print(\"error\")\n",
    "        else:\n",
    "            if program[4*x] == 1:\n",
    "                program[program[3 + 4*x]] = (program[program[1 + 4*x]] + program[program[2 + 4*x]])\n",
    "            elif program[4*x] == 2:\n",
    "                program[program[3 + 4*x]] = (program[program[1 + 4*x]] * program[program[2 + 4*x]])\n",
    "            elif program[4*x] == 99:\n",
    "                break\n",
    "            else:\n",
    "                print(\"error\")\n",
    "    return program   "
   ]
  },
  {
   "cell_type": "markdown",
   "metadata": {},
   "source": [
    "- 1,0,0,0,99 becomes 2,0,0,0,99 (1 + 1 = 2)\n",
    "- 2,3,0,3,99 becomes 2,3,0,6,99 (3 * 2 = 6)\n",
    "- 2,4,4,5,99,0 becomes 2,4,4,5,99,9801 (99 * 99 = 9801)\n",
    "- 1,1,1,4,99,5,6,0,99 becomes 30,1,1,4,2,5,6,0,99"
   ]
  },
  {
   "cell_type": "code",
   "execution_count": 104,
   "metadata": {},
   "outputs": [
    {
     "data": {
      "text/plain": [
       "[3500, 9, 10, 70, 2, 3, 11, 0, 99, 30, 40, 50]"
      ]
     },
     "execution_count": 104,
     "metadata": {},
     "output_type": "execute_result"
    }
   ],
   "source": [
    "opcode([1,9,10,3,2,3,11,0,99,30,40,50])"
   ]
  },
  {
   "cell_type": "code",
   "execution_count": 105,
   "metadata": {},
   "outputs": [
    {
     "data": {
      "text/plain": [
       "[2, 0, 0, 0, 99]"
      ]
     },
     "execution_count": 105,
     "metadata": {},
     "output_type": "execute_result"
    }
   ],
   "source": [
    "opcode([1,0,0,0,99])"
   ]
  },
  {
   "cell_type": "code",
   "execution_count": 106,
   "metadata": {},
   "outputs": [
    {
     "data": {
      "text/plain": [
       "[2, 3, 0, 6, 99]"
      ]
     },
     "execution_count": 106,
     "metadata": {},
     "output_type": "execute_result"
    }
   ],
   "source": [
    "opcode([2,3,0,3,99])"
   ]
  },
  {
   "cell_type": "code",
   "execution_count": 107,
   "metadata": {},
   "outputs": [
    {
     "data": {
      "text/plain": [
       "[2, 4, 4, 5, 99, 9801]"
      ]
     },
     "execution_count": 107,
     "metadata": {},
     "output_type": "execute_result"
    }
   ],
   "source": [
    "opcode([2,4,4,5,99,0])"
   ]
  },
  {
   "cell_type": "code",
   "execution_count": 108,
   "metadata": {},
   "outputs": [
    {
     "data": {
      "text/plain": [
       "[30, 1, 1, 4, 2, 5, 6, 0, 99]"
      ]
     },
     "execution_count": 108,
     "metadata": {},
     "output_type": "execute_result"
    }
   ],
   "source": [
    "opcode([1,1,1,4,99,5,6,0,99])"
   ]
  },
  {
   "cell_type": "markdown",
   "metadata": {},
   "source": [
    "### Acquire input"
   ]
  },
  {
   "cell_type": "markdown",
   "metadata": {},
   "source": [
    "Obtained data from https://adventofcode.com/2019/day/2/input"
   ]
  },
  {
   "cell_type": "code",
   "execution_count": 230,
   "metadata": {},
   "outputs": [
    {
     "data": {
      "text/plain": [
       "'1,0,0,3,1,1,2,3,1,3,4,3,1,5,0,3,2,1,13,19,1,9,19,23,2,13,23,27,2,27,13,31,2,31,10,35,1,6,35,39,1,5,39,43,1,10,43,47,1,5,47,51,1,13,51,55,2,55,9,59,1,6,59,63,1,13,63,67,1,6,67,71,1,71,10,75,2,13,75,79,1,5,79,83,2,83,6,87,1,6,87,91,1,91,13,95,1,95,13,99,2,99,13,103,1,103,5,107,2,107,10,111,1,5,111,115,1,2,115,119,1,119,6,0,99,2,0,14,0'"
      ]
     },
     "execution_count": 230,
     "metadata": {},
     "output_type": "execute_result"
    }
   ],
   "source": [
    "# read data from file\n",
    "program = open(\"input-2.txt\", \"r\").read()\n",
    "program"
   ]
  },
  {
   "cell_type": "code",
   "execution_count": 231,
   "metadata": {},
   "outputs": [],
   "source": [
    "# split file on commas\n",
    "program = program.split(\",\")"
   ]
  },
  {
   "cell_type": "code",
   "execution_count": 232,
   "metadata": {},
   "outputs": [],
   "source": [
    "# change strings to ints\n",
    "program = np.array(program).astype(int)"
   ]
  },
  {
   "cell_type": "code",
   "execution_count": 233,
   "metadata": {},
   "outputs": [
    {
     "data": {
      "text/plain": [
       "array([  1,   0,   0,   3,   1,   1,   2,   3,   1,   3,   4,   3,   1,\n",
       "         5,   0,   3,   2,   1,  13,  19,   1,   9,  19,  23,   2,  13,\n",
       "        23,  27,   2,  27,  13,  31,   2,  31,  10,  35,   1,   6,  35,\n",
       "        39,   1,   5,  39,  43,   1,  10,  43,  47,   1,   5,  47,  51,\n",
       "         1,  13,  51,  55,   2,  55,   9,  59,   1,   6,  59,  63,   1,\n",
       "        13,  63,  67,   1,   6,  67,  71,   1,  71,  10,  75,   2,  13,\n",
       "        75,  79,   1,   5,  79,  83,   2,  83,   6,  87,   1,   6,  87,\n",
       "        91,   1,  91,  13,  95,   1,  95,  13,  99,   2,  99,  13, 103,\n",
       "         1, 103,   5, 107,   2, 107,  10, 111,   1,   5, 111, 115,   1,\n",
       "         2, 115, 119,   1, 119,   6,   0,  99,   2,   0,  14,   0])"
      ]
     },
     "execution_count": 233,
     "metadata": {},
     "output_type": "execute_result"
    }
   ],
   "source": [
    "program"
   ]
  },
  {
   "cell_type": "markdown",
   "metadata": {},
   "source": [
    "### Test working computer"
   ]
  },
  {
   "cell_type": "code",
   "execution_count": 234,
   "metadata": {},
   "outputs": [
    {
     "data": {
      "text/plain": [
       "array([190687,      0,      0,      2,      1,      1,      2,      3,\n",
       "            1,      3,      4,      3,      1,      5,      0,      3,\n",
       "            2,      1,     13,      0,      1,      9,     19,      3,\n",
       "            2,     13,     23,     15,      2,     27,     13,     75,\n",
       "            2,     31,     10,    300,      1,      6,     35,    302,\n",
       "            1,      5,     39,    303,      1,     10,     43,    307,\n",
       "            1,      5,     47,    308,      1,     13,     51,    313,\n",
       "            2,     55,      9,    939,      1,      6,     59,    941,\n",
       "            1,     13,     63,    946,      1,      6,     67,    948,\n",
       "            1,     71,     10,    952,      2,     13,     75,   4760,\n",
       "            1,      5,     79,   4761,      2,     83,      6,   9522,\n",
       "            1,      6,     87,   9524,      1,     91,     13,   9529,\n",
       "            1,     95,     13,   9534,      2,     99,     13,  47670,\n",
       "            1,    103,      5,  47671,      2,    107,     10, 190684,\n",
       "            1,      5,    111, 190685,      1,      2,    115, 190685,\n",
       "            1,    119,      6,      0,     99,      2,      0,     14,\n",
       "            0])"
      ]
     },
     "execution_count": 234,
     "metadata": {},
     "output_type": "execute_result"
    }
   ],
   "source": [
    "opcode(program)"
   ]
  },
  {
   "cell_type": "markdown",
   "metadata": {},
   "source": [
    "### Obtain final solution"
   ]
  },
  {
   "cell_type": "markdown",
   "metadata": {},
   "source": [
    "Once you have a working computer, the first step is to restore the gravity assist program (your puzzle input) to the \"1202 program alarm\" state it had just before the last computer caught fire. To do this, before running the program, replace position 1 with the value 12 and replace position 2 with the value 2. What value is left at position 0 after the program halts?"
   ]
  },
  {
   "cell_type": "code",
   "execution_count": 242,
   "metadata": {},
   "outputs": [],
   "source": [
    "# read and wrangle data\n",
    "program = open(\"input-2.txt\", \"r\").read()\n",
    "program = program.split(\",\")\n",
    "program = np.array(program).astype(int)"
   ]
  },
  {
   "cell_type": "code",
   "execution_count": 243,
   "metadata": {},
   "outputs": [
    {
     "data": {
      "text/plain": [
       "array([  1,   0,   0,   3,   1,   1,   2,   3,   1,   3,   4,   3,   1,\n",
       "         5,   0,   3,   2,   1,  13,  19,   1,   9,  19,  23,   2,  13,\n",
       "        23,  27,   2,  27,  13,  31,   2,  31,  10,  35,   1,   6,  35,\n",
       "        39,   1,   5,  39,  43,   1,  10,  43,  47,   1,   5,  47,  51,\n",
       "         1,  13,  51,  55,   2,  55,   9,  59,   1,   6,  59,  63,   1,\n",
       "        13,  63,  67,   1,   6,  67,  71,   1,  71,  10,  75,   2,  13,\n",
       "        75,  79,   1,   5,  79,  83,   2,  83,   6,  87,   1,   6,  87,\n",
       "        91,   1,  91,  13,  95,   1,  95,  13,  99,   2,  99,  13, 103,\n",
       "         1, 103,   5, 107,   2, 107,  10, 111,   1,   5, 111, 115,   1,\n",
       "         2, 115, 119,   1, 119,   6,   0,  99,   2,   0,  14,   0])"
      ]
     },
     "execution_count": 243,
     "metadata": {},
     "output_type": "execute_result"
    }
   ],
   "source": [
    "program"
   ]
  },
  {
   "cell_type": "code",
   "execution_count": 244,
   "metadata": {},
   "outputs": [],
   "source": [
    "# replace values as stated in the instructions\n",
    "program[1] = 12\n",
    "program[2] = 2"
   ]
  },
  {
   "cell_type": "code",
   "execution_count": 245,
   "metadata": {},
   "outputs": [
    {
     "data": {
      "text/plain": [
       "array([  1,  12,   2,   3,   1,   1,   2,   3,   1,   3,   4,   3,   1,\n",
       "         5,   0,   3,   2,   1,  13,  19,   1,   9,  19,  23,   2,  13,\n",
       "        23,  27,   2,  27,  13,  31,   2,  31,  10,  35,   1,   6,  35,\n",
       "        39,   1,   5,  39,  43,   1,  10,  43,  47,   1,   5,  47,  51,\n",
       "         1,  13,  51,  55,   2,  55,   9,  59,   1,   6,  59,  63,   1,\n",
       "        13,  63,  67,   1,   6,  67,  71,   1,  71,  10,  75,   2,  13,\n",
       "        75,  79,   1,   5,  79,  83,   2,  83,   6,  87,   1,   6,  87,\n",
       "        91,   1,  91,  13,  95,   1,  95,  13,  99,   2,  99,  13, 103,\n",
       "         1, 103,   5, 107,   2, 107,  10, 111,   1,   5, 111, 115,   1,\n",
       "         2, 115, 119,   1, 119,   6,   0,  99,   2,   0,  14,   0])"
      ]
     },
     "execution_count": 245,
     "metadata": {},
     "output_type": "execute_result"
    }
   ],
   "source": [
    "program"
   ]
  },
  {
   "cell_type": "code",
   "execution_count": 246,
   "metadata": {},
   "outputs": [
    {
     "data": {
      "text/plain": [
       "array([3790689,      12,       2,       2,       1,       1,       2,\n",
       "             3,       1,       3,       4,       3,       1,       5,\n",
       "             0,       3,       2,       1,      13,      60,       1,\n",
       "             9,      19,      63,       2,      13,      23,     315,\n",
       "             2,      27,      13,    1575,       2,      31,      10,\n",
       "          6300,       1,       6,      35,    6302,       1,       5,\n",
       "            39,    6303,       1,      10,      43,    6307,       1,\n",
       "             5,      47,    6308,       1,      13,      51,    6313,\n",
       "             2,      55,       9,   18939,       1,       6,      59,\n",
       "         18941,       1,      13,      63,   18946,       1,       6,\n",
       "            67,   18948,       1,      71,      10,   18952,       2,\n",
       "            13,      75,   94760,       1,       5,      79,   94761,\n",
       "             2,      83,       6,  189522,       1,       6,      87,\n",
       "        189524,       1,      91,      13,  189529,       1,      95,\n",
       "            13,  189534,       2,      99,      13,  947670,       1,\n",
       "           103,       5,  947671,       2,     107,      10, 3790684,\n",
       "             1,       5,     111, 3790685,       1,       2,     115,\n",
       "       3790687,       1,     119,       6,       0,      99,       2,\n",
       "             0,      14,       0])"
      ]
     },
     "execution_count": 246,
     "metadata": {},
     "output_type": "execute_result"
    }
   ],
   "source": [
    "opcode(program)"
   ]
  },
  {
   "cell_type": "markdown",
   "metadata": {},
   "source": [
    "### Solution"
   ]
  },
  {
   "cell_type": "code",
   "execution_count": 247,
   "metadata": {},
   "outputs": [
    {
     "data": {
      "text/plain": [
       "3790689"
      ]
     },
     "execution_count": 247,
     "metadata": {},
     "output_type": "execute_result"
    }
   ],
   "source": [
    "program[0]"
   ]
  },
  {
   "cell_type": "code",
   "execution_count": null,
   "metadata": {},
   "outputs": [],
   "source": []
  }
 ],
 "metadata": {
  "kernelspec": {
   "display_name": "Python 3",
   "language": "python",
   "name": "python3"
  },
  "language_info": {
   "codemirror_mode": {
    "name": "ipython",
    "version": 3
   },
   "file_extension": ".py",
   "mimetype": "text/x-python",
   "name": "python",
   "nbconvert_exporter": "python",
   "pygments_lexer": "ipython3",
   "version": "3.7.3"
  },
  "toc": {
   "base_numbering": 1,
   "nav_menu": {},
   "number_sections": false,
   "sideBar": true,
   "skip_h1_title": true,
   "title_cell": "Table of Contents",
   "title_sidebar": "Contents",
   "toc_cell": false,
   "toc_position": {},
   "toc_section_display": true,
   "toc_window_display": false
  }
 },
 "nbformat": 4,
 "nbformat_minor": 2
}
